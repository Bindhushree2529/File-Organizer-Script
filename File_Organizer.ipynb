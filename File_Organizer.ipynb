{
  "nbformat": 4,
  "nbformat_minor": 0,
  "metadata": {
    "colab": {
      "provenance": [],
      "authorship_tag": "ABX9TyMHar3AQeMJ3103JLOQjtaE",
      "include_colab_link": true
    },
    "kernelspec": {
      "name": "python3",
      "display_name": "Python 3"
    },
    "language_info": {
      "name": "python"
    }
  },
  "cells": [
    {
      "cell_type": "markdown",
      "metadata": {
        "id": "view-in-github",
        "colab_type": "text"
      },
      "source": [
        "<a href=\"https://colab.research.google.com/github/Bindhushree2529/File-Organizer-Script/blob/main/File_Organizer.ipynb\" target=\"_parent\"><img src=\"https://colab.research.google.com/assets/colab-badge.svg\" alt=\"Open In Colab\"/></a>"
      ]
    },
    {
      "cell_type": "code",
      "execution_count": 1,
      "metadata": {
        "colab": {
          "base_uri": "https://localhost:8080/"
        },
        "id": "4z6UosNA_wap",
        "outputId": "37ba6886-8903-4556-d361-f2e174ce8a0a"
      },
      "outputs": [
        {
          "output_type": "stream",
          "name": "stdout",
          "text": [
            "Folder '/content/drive/My Drive/FolderToOrganize' does not exist!\n"
          ]
        }
      ],
      "source": [
        "# Import necessary libraries\n",
        "import os\n",
        "import shutil\n",
        "\n",
        "# Function to organize files based on their extensions\n",
        "def organize_files(folder_path):\n",
        "    # Define categories and associated file extensions\n",
        "    file_categories = {\n",
        "        \"Images\": [\".jpg\", \".jpeg\", \".png\", \".gif\", \".bmp\", \".tiff\", \".svg\"],\n",
        "        \"Videos\": [\".mp4\", \".mov\", \".avi\", \".mkv\", \".flv\", \".wmv\"],\n",
        "        \"Documents\": [\".pdf\", \".docx\", \".doc\", \".pptx\", \".ppt\", \".xlsx\", \".xls\", \".txt\", \".csv\"],\n",
        "        \"Music\": [\".mp3\", \".wav\", \".aac\", \".flac\", \".ogg\"],\n",
        "        \"Archives\": [\".zip\", \".rar\", \".7z\", \".tar\", \".gz\"],\n",
        "        \"Programs\": [\".exe\", \".msi\", \".bat\", \".sh\"],\n",
        "        \"Scripts\": [\".py\", \".js\", \".html\", \".css\", \".java\", \".cpp\"],\n",
        "        \"Others\": []  # For files that don't fit in the above categories\n",
        "    }\n",
        "\n",
        "    # Make sure the provided folder exists\n",
        "    if not os.path.exists(folder_path):\n",
        "        print(f\"Folder '{folder_path}' does not exist!\")\n",
        "        return\n",
        "\n",
        "    # Create directories for each category if they don't exist\n",
        "    for category in file_categories.keys():\n",
        "        category_path = os.path.join(folder_path, category)\n",
        "        if not os.path.exists(category_path):\n",
        "            os.makedirs(category_path)\n",
        "\n",
        "    # Organize files in the specified folder\n",
        "    for filename in os.listdir(folder_path):\n",
        "        # Skip directories\n",
        "        if os.path.isdir(os.path.join(folder_path, filename)):\n",
        "            continue\n",
        "\n",
        "        file_extension = os.path.splitext(filename)[1].lower()\n",
        "        moved = False\n",
        "\n",
        "        # Move files into their respective category based on extension\n",
        "        for category, extensions in file_categories.items():\n",
        "            if file_extension in extensions:\n",
        "                source_path = os.path.join(folder_path, filename)\n",
        "                destination_path = os.path.join(folder_path, category, filename)\n",
        "                shutil.move(source_path, destination_path)\n",
        "                moved = True\n",
        "                print(f\"Moved: {filename} --> {category}\")\n",
        "                break\n",
        "\n",
        "        # If file doesn't match any category, move to 'Others'\n",
        "        if not moved:\n",
        "            source_path = os.path.join(folder_path, filename)\n",
        "            destination_path = os.path.join(folder_path, \"Others\", filename)\n",
        "            shutil.move(source_path, destination_path)\n",
        "            print(f\"Moved: {filename} --> Others\")\n",
        "\n",
        "    print(\"File organization complete!\")\n",
        "\n",
        "# Provide the folder path (in Google Drive or local environment)\n",
        "folder_to_organize = \"/content/drive/My Drive/FolderToOrganize\"  # Change this path\n",
        "\n",
        "# Call the organize function\n",
        "organize_files(folder_to_organize)\n"
      ]
    },
    {
      "cell_type": "code",
      "source": [],
      "metadata": {
        "id": "GjzLaZRb_xTw"
      },
      "execution_count": null,
      "outputs": []
    }
  ]
}